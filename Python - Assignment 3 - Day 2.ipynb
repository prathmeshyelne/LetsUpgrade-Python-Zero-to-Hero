{
 "cells": [
  {
   "cell_type": "markdown",
   "id": "398c8099",
   "metadata": {},
   "source": [
    "### User defined function to check for Pangram"
   ]
  },
  {
   "cell_type": "code",
   "execution_count": 1,
   "id": "4a523f3f",
   "metadata": {},
   "outputs": [],
   "source": [
    "\n",
    "def pangram(str):\n",
    "   alphabet = \"abcdefghijklmnopqrstuvwxyz\"\n",
    "   for i in alphabet:\n",
    "      if i not in str.lower():\n",
    "         return False\n",
    "   return True"
   ]
  },
  {
   "cell_type": "markdown",
   "id": "3dc49247",
   "metadata": {},
   "source": [
    "### Taking input"
   ]
  },
  {
   "cell_type": "code",
   "execution_count": 2,
   "id": "7794df65",
   "metadata": {},
   "outputs": [
    {
     "name": "stdout",
     "output_type": "stream",
     "text": [
      "enter a string :hello\n"
     ]
    }
   ],
   "source": [
    "string = str(input(\"enter a string :\"))"
   ]
  },
  {
   "cell_type": "code",
   "execution_count": 3,
   "id": "0c6341ad",
   "metadata": {},
   "outputs": [
    {
     "name": "stdout",
     "output_type": "stream",
     "text": [
      "No,The string is not a pangram\n"
     ]
    }
   ],
   "source": [
    "if(pangram(string) == True):\n",
    "   print(\"Yes,The string is a pangram\")\n",
    "else:\n",
    "   print(\"No,The string is not a pangram\")"
   ]
  },
  {
   "cell_type": "code",
   "execution_count": null,
   "id": "f9f577aa",
   "metadata": {},
   "outputs": [],
   "source": []
  }
 ],
 "metadata": {
  "kernelspec": {
   "display_name": "Python 3",
   "language": "python",
   "name": "python3"
  },
  "language_info": {
   "codemirror_mode": {
    "name": "ipython",
    "version": 3
   },
   "file_extension": ".py",
   "mimetype": "text/x-python",
   "name": "python",
   "nbconvert_exporter": "python",
   "pygments_lexer": "ipython3",
   "version": "3.8.10"
  }
 },
 "nbformat": 4,
 "nbformat_minor": 5
}
