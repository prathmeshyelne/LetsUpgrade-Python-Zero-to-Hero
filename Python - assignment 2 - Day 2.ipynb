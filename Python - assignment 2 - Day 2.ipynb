{
 "cells": [
  {
   "cell_type": "markdown",
   "id": "a376ce82",
   "metadata": {},
   "source": [
    "## List"
   ]
  },
  {
   "cell_type": "code",
   "execution_count": 20,
   "id": "999df1e8",
   "metadata": {},
   "outputs": [],
   "source": [
    "list1 = [2,3,3,3,4,5,6,5,33,2,2,7,8,9,10]"
   ]
  },
  {
   "cell_type": "code",
   "execution_count": 21,
   "id": "e51b8c4f",
   "metadata": {},
   "outputs": [
    {
     "name": "stdout",
     "output_type": "stream",
     "text": [
      "Enter a value to be removed from list : 2\n"
     ]
    }
   ],
   "source": [
    "val=int(input(\"Enter a value to be removed from list : \"))"
   ]
  },
  {
   "cell_type": "markdown",
   "id": "5d4e478e",
   "metadata": {},
   "source": [
    "### User defined function to remove occurance of an elemnt throughout the list"
   ]
  },
  {
   "cell_type": "code",
   "execution_count": 22,
   "id": "d2f4d20d",
   "metadata": {},
   "outputs": [],
   "source": [
    "def rem(list1,val):\n",
    "    fin_list= [i for i in list if i!=val]\n",
    "    return fin_list"
   ]
  },
  {
   "cell_type": "code",
   "execution_count": 24,
   "id": "904dd0f7",
   "metadata": {},
   "outputs": [
    {
     "name": "stdout",
     "output_type": "stream",
     "text": [
      "original list  [2, 3, 3, 3, 4, 5, 6, 5, 33, 2, 2, 7, 8, 9, 10]\n"
     ]
    }
   ],
   "source": [
    "print(\"original list \",list1)"
   ]
  },
  {
   "cell_type": "markdown",
   "id": "2bb852f2",
   "metadata": {},
   "source": [
    "### new list"
   ]
  },
  {
   "cell_type": "code",
   "execution_count": 25,
   "id": "89673ab2",
   "metadata": {},
   "outputs": [
    {
     "name": "stdout",
     "output_type": "stream",
     "text": [
      "new list  [3, 3, 3, 4, 5, 6, 5, 33, 7, 8, 9, 10]\n"
     ]
    }
   ],
   "source": [
    "print(\"new list \",rem(list1,val))"
   ]
  },
  {
   "cell_type": "code",
   "execution_count": null,
   "id": "7a2dd377",
   "metadata": {},
   "outputs": [],
   "source": []
  }
 ],
 "metadata": {
  "kernelspec": {
   "display_name": "Python 3",
   "language": "python",
   "name": "python3"
  },
  "language_info": {
   "codemirror_mode": {
    "name": "ipython",
    "version": 3
   },
   "file_extension": ".py",
   "mimetype": "text/x-python",
   "name": "python",
   "nbconvert_exporter": "python",
   "pygments_lexer": "ipython3",
   "version": "3.8.10"
  }
 },
 "nbformat": 4,
 "nbformat_minor": 5
}
