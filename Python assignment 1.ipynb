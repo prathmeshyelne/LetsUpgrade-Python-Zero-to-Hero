{
 "cells": [
  {
   "cell_type": "code",
   "execution_count": 5,
   "id": "8506d5a6",
   "metadata": {},
   "outputs": [
    {
     "name": "stdout",
     "output_type": "stream",
     "text": [
      "enter 4 numbers of the list: 1\n",
      "enter 4 numbers of the list: 2\n",
      "enter 4 numbers of the list: 3\n",
      "enter 4 numbers of the list: 4\n",
      "[1, 2, 3, 4]\n"
     ]
    }
   ],
   "source": [
    "l=[]\n",
    "for i in range(0,4):\n",
    "    temp=int(input(\"enter 4 numbers of the list: \"))\n",
    "    l.append(temp)\n",
    "print(l)"
   ]
  },
  {
   "cell_type": "code",
   "execution_count": 3,
   "id": "a9ef905c",
   "metadata": {},
   "outputs": [],
   "source": [
    "l.sort(reverse=True)"
   ]
  },
  {
   "cell_type": "code",
   "execution_count": 4,
   "id": "3212239d",
   "metadata": {},
   "outputs": [
    {
     "data": {
      "text/plain": [
       "[4, 3, 2, 1]"
      ]
     },
     "execution_count": 4,
     "metadata": {},
     "output_type": "execute_result"
    }
   ],
   "source": [
    "l"
   ]
  },
  {
   "cell_type": "code",
   "execution_count": null,
   "id": "d213dc63",
   "metadata": {},
   "outputs": [],
   "source": []
  }
 ],
 "metadata": {
  "kernelspec": {
   "display_name": "Python 3",
   "language": "python",
   "name": "python3"
  },
  "language_info": {
   "codemirror_mode": {
    "name": "ipython",
    "version": 3
   },
   "file_extension": ".py",
   "mimetype": "text/x-python",
   "name": "python",
   "nbconvert_exporter": "python",
   "pygments_lexer": "ipython3",
   "version": "3.8.10"
  }
 },
 "nbformat": 4,
 "nbformat_minor": 5
}
